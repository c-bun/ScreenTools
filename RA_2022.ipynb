{
 "cells": [
  {
   "cell_type": "code",
   "execution_count": 27,
   "metadata": {},
   "outputs": [],
   "source": [
    "import pandas as pd\n",
    "import numpy as np"
   ]
  },
  {
   "cell_type": "code",
   "execution_count": 32,
   "metadata": {},
   "outputs": [],
   "source": [
    "with open('./data/RA_SU22_screen/RA_data.csv', 'r', encoding='utf-8-sig') as f: # because of the BOM and excel is stupid\n",
    "# read in CSV files from data folder as a nunpy array\n",
    "    data_np = np.genfromtxt(f, delimiter=',', dtype='int')\n",
    "with open('./data/RA_SU22_screen/RA_labels.csv', 'r', encoding='utf-8-sig') as f: # because of the BOM and excel is stupid\n",
    "# read in labels of the data\n",
    "    labels_np = np.genfromtxt(f, delimiter=',', dtype='str')\n",
    "\n",
    "# reshape both into a single column\n",
    "data_np = data_np.reshape(-1,1)\n",
    "labels_np = labels_np.reshape(-1,1)\n"
   ]
  },
  {
   "cell_type": "code",
   "execution_count": 48,
   "metadata": {},
   "outputs": [
    {
     "data": {
      "text/html": [
       "<div>\n",
       "<style scoped>\n",
       "    .dataframe tbody tr th:only-of-type {\n",
       "        vertical-align: middle;\n",
       "    }\n",
       "\n",
       "    .dataframe tbody tr th {\n",
       "        vertical-align: top;\n",
       "    }\n",
       "\n",
       "    .dataframe thead th {\n",
       "        text-align: right;\n",
       "    }\n",
       "</style>\n",
       "<table border=\"1\" class=\"dataframe\">\n",
       "  <thead>\n",
       "    <tr style=\"text-align: right;\">\n",
       "      <th></th>\n",
       "      <th>data</th>\n",
       "      <th>labels</th>\n",
       "      <th>peptide</th>\n",
       "    </tr>\n",
       "  </thead>\n",
       "  <tbody>\n",
       "    <tr>\n",
       "      <th>0</th>\n",
       "      <td>81717</td>\n",
       "      <td>positive</td>\n",
       "      <td>86</td>\n",
       "    </tr>\n",
       "    <tr>\n",
       "      <th>1</th>\n",
       "      <td>125233</td>\n",
       "      <td>positive</td>\n",
       "      <td>86</td>\n",
       "    </tr>\n",
       "    <tr>\n",
       "      <th>2</th>\n",
       "      <td>114981</td>\n",
       "      <td>positive</td>\n",
       "      <td>86</td>\n",
       "    </tr>\n",
       "    <tr>\n",
       "      <th>3</th>\n",
       "      <td>194017</td>\n",
       "      <td></td>\n",
       "      <td>86</td>\n",
       "    </tr>\n",
       "    <tr>\n",
       "      <th>4</th>\n",
       "      <td>171267</td>\n",
       "      <td></td>\n",
       "      <td>86</td>\n",
       "    </tr>\n",
       "    <tr>\n",
       "      <th>...</th>\n",
       "      <td>...</td>\n",
       "      <td>...</td>\n",
       "      <td>...</td>\n",
       "    </tr>\n",
       "    <tr>\n",
       "      <th>4027</th>\n",
       "      <td>16221</td>\n",
       "      <td></td>\n",
       "      <td>104</td>\n",
       "    </tr>\n",
       "    <tr>\n",
       "      <th>4028</th>\n",
       "      <td>57023</td>\n",
       "      <td></td>\n",
       "      <td>104</td>\n",
       "    </tr>\n",
       "    <tr>\n",
       "      <th>4029</th>\n",
       "      <td>68323</td>\n",
       "      <td></td>\n",
       "      <td>104</td>\n",
       "    </tr>\n",
       "    <tr>\n",
       "      <th>4030</th>\n",
       "      <td>18419</td>\n",
       "      <td></td>\n",
       "      <td>104</td>\n",
       "    </tr>\n",
       "    <tr>\n",
       "      <th>4031</th>\n",
       "      <td>249</td>\n",
       "      <td></td>\n",
       "      <td>104</td>\n",
       "    </tr>\n",
       "  </tbody>\n",
       "</table>\n",
       "<p>4032 rows × 3 columns</p>\n",
       "</div>"
      ],
      "text/plain": [
       "        data    labels  peptide\n",
       "0      81717  positive       86\n",
       "1     125233  positive       86\n",
       "2     114981  positive       86\n",
       "3     194017                 86\n",
       "4     171267                 86\n",
       "...      ...       ...      ...\n",
       "4027   16221                104\n",
       "4028   57023                104\n",
       "4029   68323                104\n",
       "4030   18419                104\n",
       "4031     249                104\n",
       "\n",
       "[4032 rows x 3 columns]"
      ]
     },
     "execution_count": 48,
     "metadata": {},
     "output_type": "execute_result"
    }
   ],
   "source": [
    "# create a dataframe from the numpy arrays\n",
    "df = pd.DataFrame(data_np, columns=['data'])\n",
    "# add the labels to the dataframe\n",
    "df['labels'] = labels_np\n",
    "# label the first 12 lines as '86' and the second 24 as '104' and so on in a column called 'peptide'\n",
    "df['peptide'] = np.repeat(\n",
    "    np.concatenate((\n",
    "    np.repeat(86, 12), np.repeat(104, 12)\n",
    "    )),\n",
    "    len(df)/24)\n",
    "\n",
    "df"
   ]
  },
  {
   "cell_type": "code",
   "execution_count": null,
   "metadata": {},
   "outputs": [],
   "source": []
  }
 ],
 "metadata": {
  "kernelspec": {
   "display_name": "general-ml",
   "language": "python",
   "name": "python3"
  },
  "language_info": {
   "codemirror_mode": {
    "name": "ipython",
    "version": 3
   },
   "file_extension": ".py",
   "mimetype": "text/x-python",
   "name": "python",
   "nbconvert_exporter": "python",
   "pygments_lexer": "ipython3",
   "version": "3.8.10"
  },
  "orig_nbformat": 4,
  "vscode": {
   "interpreter": {
    "hash": "9f00e1b7ef3c2f1e5243cc44b58d4b629b9be826eef330b6d1515d1b550c46d3"
   }
  }
 },
 "nbformat": 4,
 "nbformat_minor": 2
}
