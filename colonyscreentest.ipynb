{
 "cells": [
  {
   "cell_type": "code",
   "execution_count": 2,
   "metadata": {},
   "outputs": [],
   "source": [
    "import numpy as np\n",
    "import seaborn as sns\n",
    "import matplotlib.pyplot as plt\n",
    "import pandas as pd"
   ]
  },
  {
   "cell_type": "code",
   "execution_count": 3,
   "metadata": {},
   "outputs": [],
   "source": [
    "with open('./data/colonypicktest.csv', 'r', encoding='utf-8-sig') as f: # because of the BOM and excel is stupid\n",
    "# read in CSV files from data folder as a nunpy array\n",
    "    csv = np.genfromtxt(f, delimiter=',', dtype='int')\n",
    "\n",
    "data = csv.T.reshape(csv.size, 1)\n",
    "#data = csv.reshape(1, csv.size)"
   ]
  },
  {
   "cell_type": "code",
   "execution_count": 4,
   "metadata": {},
   "outputs": [
    {
     "data": {
      "text/plain": [
       "array([[    39],\n",
       "       [    27],\n",
       "       [    29],\n",
       "       [    87],\n",
       "       [    42],\n",
       "       [    32],\n",
       "       [    27],\n",
       "       [    34],\n",
       "       [    38],\n",
       "       [ 24943],\n",
       "       [  5891],\n",
       "       [ 72232],\n",
       "       [  9091],\n",
       "       [ 28849],\n",
       "       [ 23496],\n",
       "       [ 21726],\n",
       "       [  2333],\n",
       "       [ 17964],\n",
       "       [ 23037],\n",
       "       [  9533],\n",
       "       [  9142],\n",
       "       [ 15803],\n",
       "       [ 13502],\n",
       "       [143355],\n",
       "       [ 16552],\n",
       "       [ 18900],\n",
       "       [ 26686],\n",
       "       [ 12987],\n",
       "       [ 12020],\n",
       "       [151322],\n",
       "       [ 13200],\n",
       "       [ 13655],\n",
       "       [ 18790],\n",
       "       [ 21942],\n",
       "       [ 15396],\n",
       "       [ 11383],\n",
       "       [ 59681],\n",
       "       [101997],\n",
       "       [ 82958],\n",
       "       [ 30004],\n",
       "       [119251],\n",
       "       [  5258],\n",
       "       [ 17360],\n",
       "       [ 10570],\n",
       "       [  6207],\n",
       "       [  2897],\n",
       "       [ 15871],\n",
       "       [  8877],\n",
       "       [ 23459],\n",
       "       [  6565],\n",
       "       [  9038],\n",
       "       [  7034],\n",
       "       [ 39091],\n",
       "       [ 11023],\n",
       "       [  7602],\n",
       "       [ 11637],\n",
       "       [ 16145],\n",
       "       [ 22485],\n",
       "       [ 21689],\n",
       "       [ 31620],\n",
       "       [ 21156],\n",
       "       [  6160],\n",
       "       [  9586],\n",
       "       [ 64879],\n",
       "       [314807],\n",
       "       [ 11966],\n",
       "       [ 14094],\n",
       "       [ 18831],\n",
       "       [  6035],\n",
       "       [143372],\n",
       "       [ 21329],\n",
       "       [  4997],\n",
       "       [  8580],\n",
       "       [  3578],\n",
       "       [ 15105],\n",
       "       [ 27610],\n",
       "       [ 25072],\n",
       "       [ 26364],\n",
       "       [ 93597],\n",
       "       [ 10742],\n",
       "       [ 27672],\n",
       "       [  3038],\n",
       "       [ 15464],\n",
       "       [ 27896],\n",
       "       [ 21705],\n",
       "       [ 93863],\n",
       "       [ 15964],\n",
       "       [ 18155],\n",
       "       [  7174],\n",
       "       [  3038],\n",
       "       [  6457],\n",
       "       [  6585],\n",
       "       [ 19524],\n",
       "       [  5104],\n",
       "       [   743],\n",
       "       [  8565],\n",
       "       [ 13469],\n",
       "       [  7051],\n",
       "       [ 31163],\n",
       "       [ 85725],\n",
       "       [ 19759],\n",
       "       [ 91681],\n",
       "       [ 15452],\n",
       "       [ 20295],\n",
       "       [ 19486],\n",
       "       [ 21819],\n",
       "       [ 10921],\n",
       "       [  4411],\n",
       "       [ 10870],\n",
       "       [ 36398],\n",
       "       [  6305],\n",
       "       [ 40618],\n",
       "       [ 10558],\n",
       "       [ 24248],\n",
       "       [ 12538],\n",
       "       [  8692],\n",
       "       [ 31792],\n",
       "       [ 27585],\n",
       "       [112661],\n",
       "       [  7942],\n",
       "       [  7073],\n",
       "       [  4880],\n",
       "       [ 21075],\n",
       "       [ 26293],\n",
       "       [  6934],\n",
       "       [ 94004],\n",
       "       [ 10320],\n",
       "       [ 50084],\n",
       "       [ 24965],\n",
       "       [ 40249],\n",
       "       [  7615],\n",
       "       [ 17169],\n",
       "       [ 11495],\n",
       "       [ 22919],\n",
       "       [ 27278],\n",
       "       [ 19121],\n",
       "       [ 12511],\n",
       "       [  8088],\n",
       "       [ 12736],\n",
       "       [  4394],\n",
       "       [ 28788],\n",
       "       [ 15839],\n",
       "       [ 14941],\n",
       "       [ 12090],\n",
       "       [ 10140],\n",
       "       [  6720],\n",
       "       [ 33841],\n",
       "       [ 88279],\n",
       "       [ 25094],\n",
       "       [ 65724],\n",
       "       [  5384],\n",
       "       [ 12834],\n",
       "       [ 30435],\n",
       "       [ 15363],\n",
       "       [ 77787],\n",
       "       [  1788],\n",
       "       [  3652],\n",
       "       [  1221],\n",
       "       [   704],\n",
       "       [   598],\n",
       "       [  4467],\n",
       "       [  2249],\n",
       "       [  3960],\n",
       "       [   547],\n",
       "       [  4694],\n",
       "       [  3594],\n",
       "       [ 26101],\n",
       "       [  3733],\n",
       "       [  1254],\n",
       "       [  3572],\n",
       "       [  2943],\n",
       "       [ 17713],\n",
       "       [  6739],\n",
       "       [   646],\n",
       "       [ 22690],\n",
       "       [ 11511],\n",
       "       [ 41660],\n",
       "       [  2989],\n",
       "       [   866],\n",
       "       [   880],\n",
       "       [   755],\n",
       "       [  9512],\n",
       "       [  9629],\n",
       "       [  3659],\n",
       "       [ 38723],\n",
       "       [   949],\n",
       "       [  2540],\n",
       "       [  8536],\n",
       "       [  3460],\n",
       "       [  4540],\n",
       "       [  3163],\n",
       "       [  3153],\n",
       "       [  3354],\n",
       "       [ 12404],\n",
       "       [ 42131],\n",
       "       [ 19358],\n",
       "       [ 11441],\n",
       "       [  5731],\n",
       "       [  6262],\n",
       "       [  4618],\n",
       "       [  3210],\n",
       "       [ 15611],\n",
       "       [  8198],\n",
       "       [  1857],\n",
       "       [  1117],\n",
       "       [  3705],\n",
       "       [  3444],\n",
       "       [  5311],\n",
       "       [  4639],\n",
       "       [  8339],\n",
       "       [  3427],\n",
       "       [  1814],\n",
       "       [  6219],\n",
       "       [ 10760],\n",
       "       [   993],\n",
       "       [  6278],\n",
       "       [  6726],\n",
       "       [ 21535],\n",
       "       [  7485],\n",
       "       [  1584],\n",
       "       [  2683],\n",
       "       [  9886],\n",
       "       [  4397],\n",
       "       [  2282],\n",
       "       [  2300],\n",
       "       [ 28398],\n",
       "       [  5028],\n",
       "       [  4876],\n",
       "       [  7669],\n",
       "       [  3476],\n",
       "       [  3497],\n",
       "       [  4108],\n",
       "       [   808],\n",
       "       [  4883],\n",
       "       [  1323],\n",
       "       [  3265],\n",
       "       [ 40391],\n",
       "       [  1550],\n",
       "       [  7915],\n",
       "       [  5704],\n",
       "       [  3869],\n",
       "       [  3287],\n",
       "       [  1672],\n",
       "       [  4149],\n",
       "       [  2861],\n",
       "       [  1898],\n",
       "       [  6297],\n",
       "       [   547],\n",
       "       [  1573],\n",
       "       [   755],\n",
       "       [ 46999],\n",
       "       [ 14658],\n",
       "       [  5163],\n",
       "       [ 58611],\n",
       "       [  1840],\n",
       "       [  1427],\n",
       "       [  1036],\n",
       "       [ 11638],\n",
       "       [   548],\n",
       "       [   509],\n",
       "       [  1677],\n",
       "       [  3120],\n",
       "       [  1556],\n",
       "       [  2387],\n",
       "       [   811],\n",
       "       [  2965],\n",
       "       [  8554],\n",
       "       [  3343],\n",
       "       [ 45754],\n",
       "       [  5661],\n",
       "       [ 24160],\n",
       "       [  5628],\n",
       "       [  1165],\n",
       "       [  3978],\n",
       "       [  2131],\n",
       "       [  2731],\n",
       "       [   748],\n",
       "       [  6805],\n",
       "       [  3220],\n",
       "       [  7100],\n",
       "       [  1229],\n",
       "       [  1710],\n",
       "       [   786],\n",
       "       [  2809],\n",
       "       [  2272],\n",
       "       [  2900],\n",
       "       [   855],\n",
       "       [  6329],\n",
       "       [ 20235],\n",
       "       [  1627],\n",
       "       [ 14272],\n",
       "       [  2761],\n",
       "       [  5701],\n",
       "       [  4793],\n",
       "       [  1146],\n",
       "       [  7254],\n",
       "       [  5660],\n",
       "       [ 28101],\n",
       "       [  1047],\n",
       "       [ 35829],\n",
       "       [  2201],\n",
       "       [ 10060],\n",
       "       [  4577],\n",
       "       [ 19247],\n",
       "       [  4686],\n",
       "       [  3014],\n",
       "       [  1077],\n",
       "       [  9226],\n",
       "       [  4453],\n",
       "       [ 10336],\n",
       "       [ 14666],\n",
       "       [ 46187],\n",
       "       [  5588],\n",
       "       [ 11077],\n",
       "       [   892],\n",
       "       [  2083],\n",
       "       [ 51370],\n",
       "       [  2970],\n",
       "       [ 34390],\n",
       "       [   976],\n",
       "       [  2072],\n",
       "       [  5765],\n",
       "       [  1856],\n",
       "       [   674],\n",
       "       [ 21069],\n",
       "       [  1272],\n",
       "       [  2542],\n",
       "       [  6070],\n",
       "       [  4526],\n",
       "       [ 10694],\n",
       "       [ 64907],\n",
       "       [  3021],\n",
       "       [ 34342],\n",
       "       [ 18138],\n",
       "       [ 55684],\n",
       "       [  8231],\n",
       "       [ 70106],\n",
       "       [  2653],\n",
       "       [  5659],\n",
       "       [  2563],\n",
       "       [  2441],\n",
       "       [ 15119],\n",
       "       [ 42922],\n",
       "       [  2134],\n",
       "       [  2550],\n",
       "       [  1684],\n",
       "       [  1456],\n",
       "       [  1044],\n",
       "       [  3322],\n",
       "       [   522],\n",
       "       [  1798],\n",
       "       [  7205],\n",
       "       [  2612],\n",
       "       [  4489],\n",
       "       [  4648],\n",
       "       [  3577],\n",
       "       [ 40313],\n",
       "       [ 33606],\n",
       "       [ 13715],\n",
       "       [  2613],\n",
       "       [ 33314],\n",
       "       [  2113],\n",
       "       [  4998],\n",
       "       [  5846],\n",
       "       [ 11075],\n",
       "       [  9604],\n",
       "       [  6576],\n",
       "       [ 15970],\n",
       "       [ 12782],\n",
       "       [  6129],\n",
       "       [  2421],\n",
       "       [ 11259],\n",
       "       [ 64614],\n",
       "       [    30],\n",
       "       [    21],\n",
       "       [    35],\n",
       "       [    34],\n",
       "       [    32],\n",
       "       [    41],\n",
       "       [    38],\n",
       "       [    21],\n",
       "       [    30],\n",
       "       [    56],\n",
       "       [    27]])"
      ]
     },
     "execution_count": 4,
     "metadata": {},
     "output_type": "execute_result"
    }
   ],
   "source": [
    "data"
   ]
  },
  {
   "cell_type": "code",
   "execution_count": 5,
   "metadata": {},
   "outputs": [
    {
     "name": "stderr",
     "output_type": "stream",
     "text": [
      "/Users/rathbunc/Library/Caches/pypoetry/virtualenvs/am-screen-ayjbsmCK-py3.8/lib/python3.8/site-packages/seaborn/distributions.py:2619: FutureWarning: `distplot` is a deprecated function and will be removed in a future version. Please adapt your code to use either `displot` (a figure-level function with similar flexibility) or `histplot` (an axes-level function for histograms).\n",
      "  warnings.warn(msg, FutureWarning)\n"
     ]
    },
    {
     "data": {
      "text/plain": [
       "<AxesSubplot:xlabel='data', ylabel='Density'>"
      ]
     },
     "execution_count": 5,
     "metadata": {},
     "output_type": "execute_result"
    },
    {
     "data": {
      "image/png": "[encoded data removed]",
      "text/plain": [
       "<Figure size 432x288 with 1 Axes>"
      ]
     },
     "metadata": {
      "needs_background": "light"
     },
     "output_type": "display_data"
    }
   ],
   "source": [
    "# add to a dataframe\n",
    "df = pd.DataFrame(data, columns=['data'])\n",
    "# plot a histogram of the log transformed data that is greater than 100\n",
    "sns.distplot(df[df['data'] > 100]['data'].pipe(np.log10), kde=True, rug=False)"
   ]
  },
  {
   "cell_type": "code",
   "execution_count": 6,
   "metadata": {},
   "outputs": [],
   "source": [
    "# label the first 149 points as plate 1 and the rest as plate 2\n",
    "plate = np.zeros((csv.size, 1))\n",
    "plate[0:149] = 1\n",
    "plate[149:] = 2\n",
    "df['plate'] = plate"
   ]
  },
  {
   "cell_type": "code",
   "execution_count": 7,
   "metadata": {},
   "outputs": [
    {
     "name": "stderr",
     "output_type": "stream",
     "text": [
      "/Users/rathbunc/Library/Caches/pypoetry/virtualenvs/am-screen-ayjbsmCK-py3.8/lib/python3.8/site-packages/seaborn/distributions.py:2619: FutureWarning: `distplot` is a deprecated function and will be removed in a future version. Please adapt your code to use either `displot` (a figure-level function with similar flexibility) or `histplot` (an axes-level function for histograms).\n",
      "  warnings.warn(msg, FutureWarning)\n",
      "/Users/rathbunc/Library/Caches/pypoetry/virtualenvs/am-screen-ayjbsmCK-py3.8/lib/python3.8/site-packages/seaborn/distributions.py:2619: FutureWarning: `distplot` is a deprecated function and will be removed in a future version. Please adapt your code to use either `displot` (a figure-level function with similar flexibility) or `histplot` (an axes-level function for histograms).\n",
      "  warnings.warn(msg, FutureWarning)\n"
     ]
    },
    {
     "data": {
      "text/plain": [
       "<matplotlib.legend.Legend at 0x7fd5d1a00d60>"
      ]
     },
     "execution_count": 7,
     "metadata": {},
     "output_type": "execute_result"
    },
    {
     "data": {
      "image/png": "[encoded data removed]",
      "text/plain": [
       "<Figure size 432x288 with 1 Axes>"
      ]
     },
     "metadata": {
      "needs_background": "light"
     },
     "output_type": "display_data"
    }
   ],
   "source": [
    "# now plot the histogram of the log transformed data for each plate\n",
    "sns.distplot(df[df['plate'] == 1]['data'].pipe(np.log10), kde=True, rug=False, label='plate 1')\n",
    "sns.distplot(df[df['plate'] == 2]['data'].pipe(np.log10), kde=True, rug=False, label='plate 2')\n",
    "plt.legend()"
   ]
  },
  {
   "cell_type": "code",
   "execution_count": 8,
   "metadata": {},
   "outputs": [
    {
     "name": "stderr",
     "output_type": "stream",
     "text": [
      "/Users/rathbunc/Library/Caches/pypoetry/virtualenvs/am-screen-ayjbsmCK-py3.8/lib/python3.8/site-packages/seaborn/distributions.py:2619: FutureWarning: `distplot` is a deprecated function and will be removed in a future version. Please adapt your code to use either `displot` (a figure-level function with similar flexibility) or `histplot` (an axes-level function for histograms).\n",
      "  warnings.warn(msg, FutureWarning)\n"
     ]
    },
    {
     "data": {
      "text/plain": [
       "<AxesSubplot:xlabel='data', ylabel='Density'>"
      ]
     },
     "execution_count": 8,
     "metadata": {},
     "output_type": "execute_result"
    },
    {
     "data": {
      "image/png": "[encoded data removed]",
      "text/plain": [
       "<Figure size 432x288 with 1 Axes>"
      ]
     },
     "metadata": {
      "needs_background": "light"
     },
     "output_type": "display_data"
    }
   ],
   "source": [
    "# Do a similar analysis of colonypicktest_N8.csv\n",
    "# import the data\n",
    "with open('./data/colonypicktest_N8.csv', 'r', encoding='utf-8-sig') as f: # because of the BOM and excel is stupid\n",
    "    csv = np.genfromtxt(f, delimiter=',', dtype='int')\n",
    "\n",
    "# reshape the data\n",
    "data = csv.T.reshape(csv.size, 1)\n",
    "\n",
    "# add to a dataframe\n",
    "df = pd.DataFrame(data, columns=['data'])\n",
    "\n",
    "# plot a histogram of the log transformed data\n",
    "sns.distplot(df['data'].pipe(np.log10), kde=True, rug=False)"
   ]
  },
  {
   "cell_type": "code",
   "execution_count": 12,
   "metadata": {},
   "outputs": [],
   "source": [
    "# label the first 3 points as positive and the second 3 as negative and the rest as experiment\n",
    "df['condition'] = [\n",
    "    'positive' if i < 3 else 'negative' if i < 6 else 'experiment' for i in range(csv.size)\n",
    "]\n"
   ]
  },
  {
   "cell_type": "code",
   "execution_count": 15,
   "metadata": {},
   "outputs": [
    {
     "name": "stderr",
     "output_type": "stream",
     "text": [
      "/Users/rathbunc/Library/Caches/pypoetry/virtualenvs/am-screen-ayjbsmCK-py3.8/lib/python3.8/site-packages/seaborn/distributions.py:2619: FutureWarning: `distplot` is a deprecated function and will be removed in a future version. Please adapt your code to use either `displot` (a figure-level function with similar flexibility) or `histplot` (an axes-level function for histograms).\n",
      "  warnings.warn(msg, FutureWarning)\n",
      "/Users/rathbunc/Library/Caches/pypoetry/virtualenvs/am-screen-ayjbsmCK-py3.8/lib/python3.8/site-packages/seaborn/distributions.py:2619: FutureWarning: `distplot` is a deprecated function and will be removed in a future version. Please adapt your code to use either `displot` (a figure-level function with similar flexibility) or `histplot` (an axes-level function for histograms).\n",
      "  warnings.warn(msg, FutureWarning)\n",
      "/Users/rathbunc/Library/Caches/pypoetry/virtualenvs/am-screen-ayjbsmCK-py3.8/lib/python3.8/site-packages/seaborn/distributions.py:2619: FutureWarning: `distplot` is a deprecated function and will be removed in a future version. Please adapt your code to use either `displot` (a figure-level function with similar flexibility) or `histplot` (an axes-level function for histograms).\n",
      "  warnings.warn(msg, FutureWarning)\n"
     ]
    },
    {
     "data": {
      "text/plain": [
       "<matplotlib.legend.Legend at 0x7fd5d18c6580>"
      ]
     },
     "execution_count": 15,
     "metadata": {},
     "output_type": "execute_result"
    },
    {
     "data": {
      "image/png": "[encoded data removed]",
      "text/plain": [
       "<Figure size 432x288 with 1 Axes>"
      ]
     },
     "metadata": {
      "needs_background": "light"
     },
     "output_type": "display_data"
    }
   ],
   "source": [
    "# now plot the histogram of the log transformed data for each condition\n",
    "sns.distplot(df[df['condition'] == 'positive']['data'].pipe(np.log10), kde=True, rug=False, label='positive')\n",
    "sns.distplot(df[df['condition'] == 'negative']['data'].pipe(np.log10), kde=True, rug=False, label='negative')\n",
    "sns.distplot(df[df['condition'] == 'experiment']['data'].pipe(np.log10), kde=True, rug=False, label='experiment')\n",
    "plt.legend()"
   ]
  },
  {
   "cell_type": "code",
   "execution_count": 17,
   "metadata": {},
   "outputs": [
    {
     "data": {
      "text/plain": [
       "data         36\n",
       "condition    36\n",
       "dtype: int64"
      ]
     },
     "execution_count": 17,
     "metadata": {},
     "output_type": "execute_result"
    }
   ],
   "source": [
    "# how many points are in the experimental condition and above 100?\n",
    "df[(df['condition'] == 'experiment') & (df['data'] < 100)].count()"
   ]
  },
  {
   "cell_type": "code",
   "execution_count": null,
   "metadata": {},
   "outputs": [],
   "source": []
  }
 ],
 "metadata": {
  "kernelspec": {
   "display_name": "AM_screen",
   "language": "python",
   "name": "am_screen"
  },
  "language_info": {
   "codemirror_mode": {
    "name": "ipython",
    "version": 3
   },
   "file_extension": ".py",
   "mimetype": "text/x-python",
   "name": "python",
   "nbconvert_exporter": "python",
   "pygments_lexer": "ipython3",
   "version": "3.8.15"
  },
  "orig_nbformat": 4
 },
 "nbformat": 4,
 "nbformat_minor": 2
}
