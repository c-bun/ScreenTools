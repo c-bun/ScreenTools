{
 "cells": [
  {
   "cell_type": "code",
   "execution_count": 1,
   "metadata": {},
   "outputs": [],
   "source": [
    "from screenTools import *"
   ]
  },
  {
   "cell_type": "code",
   "execution_count": 2,
   "metadata": {},
   "outputs": [
    {
     "name": "stdout",
     "output_type": "stream",
     "text": [
      "Expected plate order: [1, 1, 2, 2]\n",
      "Expected peptide order: ['104', '86', '104', '86']\n",
      "Got 384 datapoints.\n",
      "Control wells assigned:  ['A1', 'A2', 'A3', 'H10', 'H11', 'H12']\n",
      "        plate_number row column     condition   value         \n",
      "peptide                                           104       86\n",
      "0                  1   A      1      positive  137638  1016032\n",
      "1                  1   A     10  experimental    9446   326386\n",
      "2                  1   A     11  experimental   42409   451842\n",
      "3                  1   A     12  experimental      23     2307\n",
      "4                  1   A      2      positive   65377  1138927\n",
      "..               ...  ..    ...           ...     ...      ...\n",
      "187                2   H      5  experimental      17      149\n",
      "188                2   H      6  experimental   95907   725453\n",
      "189                2   H      7  experimental     216     5790\n",
      "190                2   H      8  experimental  177431   740878\n",
      "191                2   H      9  experimental  282272   774566\n",
      "\n",
      "[192 rows x 6 columns]\n"
     ]
    }
   ],
   "source": [
    "#args = vars(parser.parse_args())\n",
    "\n",
    "args = {\n",
    "    \"number of plates\":2,\n",
    "    \"peptide1\":'104',\n",
    "    \"peptide2\":'86',\n",
    "    \"path\":\"./AM_2.14.22_Plate_14-15.xlsx\",\n",
    "    \"controls\":[\"A1\", \"A2\", \"A3\", \"H10\", \"H11\", \"H12\"],\n",
    "    \"selectivity threshold 1\":1,\n",
    "    \"selectivity threshold 2\":2,\n",
    "}\n",
    "\n",
    "plate_order = []\n",
    "for plate in range(args[\"number of plates\"]):\n",
    "    plate_order.append(plate + 1)\n",
    "    plate_order.append(plate + 1)\n",
    "\n",
    "print(\"Expected plate order:\", plate_order)\n",
    "\n",
    "peptide_order = [args[\"peptide1\"], args[\"peptide2\"]] * args[\"number of plates\"]\n",
    "\n",
    "print(\"Expected peptide order:\", peptide_order)\n",
    "\n",
    "data = importPlates(args[\"path\"], plate_order, peptide_order)\n",
    "# positive_wells = [\"A1\", \"A2\", \"A3\", \"H10\", \"H11\", \"H12\"]\n",
    "print(\"Got\", data.shape[0], \"datapoints.\")\n",
    "assignControls(data, args[\"controls\"])\n",
    "print(\"Control wells assigned: \", args[\"controls\"])\n",
    "pp = pivotPlates(data)\n",
    "print(pp)\n",
    "ratios = computeRatios(pp)\n",
    "a = find_hits(\n",
    "    ratios, -1, args[\"selectivity threshold 1\"], args[\"selectivity threshold 2\"]\n",
    ")"
   ]
  },
  {
   "cell_type": "code",
   "execution_count": 4,
   "metadata": {},
   "outputs": [
    {
     "data": {
      "text/html": [
       "<div>\n",
       "<style scoped>\n",
       "    .dataframe tbody tr th:only-of-type {\n",
       "        vertical-align: middle;\n",
       "    }\n",
       "\n",
       "    .dataframe tbody tr th {\n",
       "        vertical-align: top;\n",
       "    }\n",
       "\n",
       "    .dataframe thead tr th {\n",
       "        text-align: left;\n",
       "    }\n",
       "</style>\n",
       "<table border=\"1\" class=\"dataframe\">\n",
       "  <thead>\n",
       "    <tr>\n",
       "      <th></th>\n",
       "      <th>plate_number</th>\n",
       "      <th>row</th>\n",
       "      <th>column</th>\n",
       "      <th>condition</th>\n",
       "      <th colspan=\"2\" halign=\"left\">value</th>\n",
       "    </tr>\n",
       "    <tr>\n",
       "      <th>peptide</th>\n",
       "      <th></th>\n",
       "      <th></th>\n",
       "      <th></th>\n",
       "      <th></th>\n",
       "      <th>104</th>\n",
       "      <th>86</th>\n",
       "    </tr>\n",
       "  </thead>\n",
       "  <tbody>\n",
       "    <tr>\n",
       "      <th>0</th>\n",
       "      <td>1</td>\n",
       "      <td>A</td>\n",
       "      <td>1</td>\n",
       "      <td>positive</td>\n",
       "      <td>137638</td>\n",
       "      <td>1016032</td>\n",
       "    </tr>\n",
       "    <tr>\n",
       "      <th>1</th>\n",
       "      <td>1</td>\n",
       "      <td>A</td>\n",
       "      <td>10</td>\n",
       "      <td>experimental</td>\n",
       "      <td>9446</td>\n",
       "      <td>326386</td>\n",
       "    </tr>\n",
       "    <tr>\n",
       "      <th>2</th>\n",
       "      <td>1</td>\n",
       "      <td>A</td>\n",
       "      <td>11</td>\n",
       "      <td>experimental</td>\n",
       "      <td>42409</td>\n",
       "      <td>451842</td>\n",
       "    </tr>\n",
       "    <tr>\n",
       "      <th>3</th>\n",
       "      <td>1</td>\n",
       "      <td>A</td>\n",
       "      <td>12</td>\n",
       "      <td>experimental</td>\n",
       "      <td>23</td>\n",
       "      <td>2307</td>\n",
       "    </tr>\n",
       "    <tr>\n",
       "      <th>4</th>\n",
       "      <td>1</td>\n",
       "      <td>A</td>\n",
       "      <td>2</td>\n",
       "      <td>positive</td>\n",
       "      <td>65377</td>\n",
       "      <td>1138927</td>\n",
       "    </tr>\n",
       "  </tbody>\n",
       "</table>\n",
       "</div>"
      ],
      "text/plain": [
       "        plate_number row column     condition   value         \n",
       "peptide                                           104       86\n",
       "0                  1   A      1      positive  137638  1016032\n",
       "1                  1   A     10  experimental    9446   326386\n",
       "2                  1   A     11  experimental   42409   451842\n",
       "3                  1   A     12  experimental      23     2307\n",
       "4                  1   A      2      positive   65377  1138927"
      ]
     },
     "execution_count": 4,
     "metadata": {},
     "output_type": "execute_result"
    }
   ],
   "source": [
    "pp.head()"
   ]
  },
  {
   "cell_type": "code",
   "execution_count": 11,
   "metadata": {},
   "outputs": [
    {
     "name": "stdout",
     "output_type": "stream",
     "text": [
      "104 hits: 9\n",
      "86 hits: 14\n"
     ]
    }
   ],
   "source": [
    "def find_hits_by_plate(\n",
    "    data,\n",
    "    stdev_threshold_brightness,\n",
    "    stdev_threshold_selectivity_0,\n",
    "    stdev_threshold_selectivity_1,\n",
    "):\n",
    "    hitlist = []\n",
    "    for platenum in set(data['plate_number']):\n",
    "        plate = data[data['plate_number']==platenum]\n",
    "        plate_hits = find_hits(plate, stdev_threshold_brightness, stdev_threshold_selectivity_0, stdev_threshold_selectivity_1)\n",
    "        hitlist.append(plate_hits)\n",
    "    \n",
    "    return pd.concat(hitlist)\n",
    "\n",
    "r = find_hits_by_plate(\n",
    "    ratios, -1, args[\"selectivity threshold 1\"], args[\"selectivity threshold 2\"]\n",
    ")\n",
    "print('104 hits:', r[r['to_pick']=='104'].shape[0])\n",
    "print('86 hits:', r[r['to_pick']=='86'].shape[0])"
   ]
  },
  {
   "cell_type": "code",
   "execution_count": 9,
   "metadata": {},
   "outputs": [
    {
     "data": {
      "image/png": "[encoded data removed]",
      "text/plain": [
       "<Figure size 720x720 with 1 Axes>"
      ]
     },
     "metadata": {
      "needs_background": "light"
     },
     "output_type": "display_data"
    }
   ],
   "source": [
    "plot_performance(r,'104','86')"
   ]
  },
  {
   "cell_type": "code",
   "execution_count": null,
   "metadata": {},
   "outputs": [],
   "source": []
  }
 ],
 "metadata": {
  "interpreter": {
   "hash": "9f00e1b7ef3c2f1e5243cc44b58d4b629b9be826eef330b6d1515d1b550c46d3"
  },
  "kernelspec": {
   "display_name": "Python 3.8.10 ('general-ml')",
   "language": "python",
   "name": "python3"
  },
  "language_info": {
   "codemirror_mode": {
    "name": "ipython",
    "version": 3
   },
   "file_extension": ".py",
   "mimetype": "text/x-python",
   "name": "python",
   "nbconvert_exporter": "python",
   "pygments_lexer": "ipython3",
   "version": "3.8.10"
  },
  "orig_nbformat": 4
 },
 "nbformat": 4,
 "nbformat_minor": 2
}
